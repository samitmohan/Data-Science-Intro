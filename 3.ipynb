{
 "cells": [
  {
   "cell_type": "code",
   "execution_count": 1,
   "id": "c32d747b-5470-433d-a13d-507ab4f1adb1",
   "metadata": {},
   "outputs": [],
   "source": [
    "# mean median mode"
   ]
  },
  {
   "cell_type": "code",
   "execution_count": 3,
   "id": "4d5675ac-b550-4da5-91b2-e150e2c727b5",
   "metadata": {},
   "outputs": [
    {
     "data": {
      "text/plain": [
       "3.3273756282434617"
      ]
     },
     "execution_count": 3,
     "metadata": {},
     "output_type": "execute_result"
    }
   ],
   "source": [
    "# mean\n",
    "import statistics as st\n",
    "nums = [1,2,3,4,5,9,9,9]\n",
    "st.mean(nums)\n",
    "st.mode(nums)\n",
    "st.median(nums)\n",
    "st.variance(nums)\n",
    "st.stdev(nums)"
   ]
  },
  {
   "cell_type": "code",
   "execution_count": 4,
   "id": "feb244e5-ed04-4770-9f30-4fc285a0c7e1",
   "metadata": {},
   "outputs": [
    {
     "data": {
      "text/plain": [
       "0    3.327376\n",
       "dtype: float64"
      ]
     },
     "execution_count": 4,
     "metadata": {},
     "output_type": "execute_result"
    }
   ],
   "source": [
    "import pandas as pd\n",
    "df = pd.DataFrame(nums)\n",
    "df.std()"
   ]
  },
  {
   "cell_type": "code",
   "execution_count": 5,
   "id": "9b223439-ed84-4e69-b4d7-0e00053dd524",
   "metadata": {},
   "outputs": [],
   "source": [
    "# Anova testing : Hypothesis.\n",
    "from scipy.stats import f_oneway"
   ]
  },
  {
   "cell_type": "code",
   "execution_count": 6,
   "id": "2c0d8ab4-81e9-4a50-baa1-a996e21015dd",
   "metadata": {},
   "outputs": [],
   "source": [
    "performance1 = [89, 89, 88, 78, 79]\n",
    "performance2 = [93, 92, 94, 89, 88]\n",
    "performance3 = [89, 88, 89, 93, 90]\n",
    "performance4 = [81, 78, 81, 92, 82]"
   ]
  },
  {
   "cell_type": "code",
   "execution_count": 7,
   "id": "dbb4776c-0977-4fc7-b0bf-19070c403f63",
   "metadata": {},
   "outputs": [
    {
     "data": {
      "text/plain": [
       "F_onewayResult(statistic=4.625000000000002, pvalue=0.016336459839780215)"
      ]
     },
     "execution_count": 7,
     "metadata": {},
     "output_type": "execute_result"
    }
   ],
   "source": [
    "f_oneway(performance1, performance2, performance3, performance4)"
   ]
  },
  {
   "cell_type": "code",
   "execution_count": 8,
   "id": "aeec25cd-0da3-4419-b607-87938b423fcb",
   "metadata": {},
   "outputs": [
    {
     "name": "stdout",
     "output_type": "stream",
     "text": [
      "Mean =  110.39567858262099\n"
     ]
    }
   ],
   "source": [
    "#Hypothesis testing- z test\n",
    "import math\n",
    "import numpy as np\n",
    "from numpy.random import randn\n",
    "from statsmodels.stats.weightstats import ztest\n",
    "\n",
    "mean_iq = 110\n",
    "sd_iq = 15 / math.sqrt(50)\n",
    "alpha = 0.05\n",
    "null_mean = 100\n",
    "data = sd_iq * randn(50) + mean_iq\n",
    "print(\"Mean = \", np.mean(data))\n"
   ]
  },
  {
   "cell_type": "code",
   "execution_count": 9,
   "id": "ce684b3c-86f1-4124-9ddb-120c7f4e0d74",
   "metadata": {},
   "outputs": [
    {
     "name": "stdout",
     "output_type": "stream",
     "text": [
      "Std Dev =  2.280198106684932\n"
     ]
    }
   ],
   "source": [
    "print(\"Std Dev = \", np.std(data))"
   ]
  },
  {
   "cell_type": "code",
   "execution_count": 10,
   "id": "26531059-c0f8-4d9f-8d99-d59b3380f05b",
   "metadata": {},
   "outputs": [],
   "source": [
    "# we passed mean value in the null hypothesis, in alternative hypothesis we check whether the mean is larger\n",
    "ztest_score, pval = ztest(data, value = null_mean, alternative = 'larger')\n",
    "# function outputs pval and zscore corresponding to that value"
   ]
  },
  {
   "cell_type": "code",
   "execution_count": 11,
   "id": "c3735988-3892-43b1-b984-0597ddf436ba",
   "metadata": {},
   "outputs": [
    {
     "name": "stdout",
     "output_type": "stream",
     "text": [
      "Reject Null Hypotheses\n"
     ]
    }
   ],
   "source": [
    "# compare pval with alpha, if greater -> Reject null hypothesis \n",
    "if (pval < alpha):\n",
    "    print(\"Reject Null Hypotheses\")\n",
    "else:\n",
    "    print(\"Fail to reject null hypotheses\")"
   ]
  },
  {
   "cell_type": "code",
   "execution_count": 12,
   "id": "08133de7-e2ac-4e3a-8b70-588c6aca7777",
   "metadata": {},
   "outputs": [
    {
     "name": "stdout",
     "output_type": "stream",
     "text": [
      "31.913784098410325\n"
     ]
    }
   ],
   "source": [
    "print(ztest_score)"
   ]
  },
  {
   "cell_type": "code",
   "execution_count": 13,
   "id": "8b50f3da-5471-4520-8e18-99c62a7817ef",
   "metadata": {},
   "outputs": [
    {
     "name": "stdout",
     "output_type": "stream",
     "text": [
      "8.596000956438004e-224\n"
     ]
    }
   ],
   "source": [
    "print(pval)"
   ]
  },
  {
   "cell_type": "code",
   "execution_count": 14,
   "id": "af24e34d-f0e5-4b95-81d8-d9b4fb094d0c",
   "metadata": {},
   "outputs": [
    {
     "name": "stdout",
     "output_type": "stream",
     "text": [
      "[111.79415357 112.195846   107.36472727 111.27303129 111.55924596\n",
      " 111.74388148 111.51192962 110.53776677 108.54952751 113.37792231\n",
      " 112.87862532 110.76196191 112.28216881 110.62627752 110.24162477\n",
      " 111.34894458 107.43980972 110.04982866 110.24149516 112.9310378\n",
      " 109.9287636  107.32663332 110.31177844 106.76151713 105.49708009\n",
      " 107.74687496 106.75906234 111.93354597 105.37719954 113.12834958\n",
      " 112.03144391 110.64747804 108.73008776 111.51747073 113.02096035\n",
      " 108.74716322 108.06779129 114.18213952 109.98637089 113.40485267\n",
      " 108.61364036 112.1751886  109.29768635 110.50313486 106.08743736\n",
      " 113.48324382 110.71641848 114.2146686  111.87142915 109.00471218]\n"
     ]
    }
   ],
   "source": [
    "print(data)"
   ]
  },
  {
   "cell_type": "code",
   "execution_count": 16,
   "id": "aaefc02f-464d-4ec9-94fe-b3c1940afc70",
   "metadata": {},
   "outputs": [
    {
     "name": "stdout",
     "output_type": "stream",
     "text": [
      "100\n"
     ]
    }
   ],
   "source": [
    "print(null_mean)"
   ]
  },
  {
   "cell_type": "code",
   "execution_count": null,
   "id": "7c70a091-0e05-44cb-a993-35e6162f4ce8",
   "metadata": {},
   "outputs": [],
   "source": []
  },
  {
   "cell_type": "code",
   "execution_count": null,
   "id": "7d009a52-e9f3-44d0-81a3-e9a679902efd",
   "metadata": {},
   "outputs": [],
   "source": []
  }
 ],
 "metadata": {
  "kernelspec": {
   "display_name": "Python 3 (ipykernel)",
   "language": "python",
   "name": "python3"
  },
  "language_info": {
   "codemirror_mode": {
    "name": "ipython",
    "version": 3
   },
   "file_extension": ".py",
   "mimetype": "text/x-python",
   "name": "python",
   "nbconvert_exporter": "python",
   "pygments_lexer": "ipython3",
   "version": "3.11.0"
  }
 },
 "nbformat": 4,
 "nbformat_minor": 5
}
